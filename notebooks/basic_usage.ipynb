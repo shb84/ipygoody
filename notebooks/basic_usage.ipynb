{
 "cells": [
  {
   "cell_type": "markdown",
   "metadata": {},
   "source": [
    "# Example Usage\n",
    "\n",
    "_An easy example to ensure profiler is working and show how to use it_"
   ]
  },
  {
   "cell_type": "code",
   "execution_count": 1,
   "metadata": {
    "tags": []
   },
   "outputs": [],
   "source": [
    "import numpy as np\n",
    "import ipysensitivityprofiler as isp"
   ]
  },
  {
   "cell_type": "code",
   "execution_count": 2,
   "metadata": {
    "tags": []
   },
   "outputs": [],
   "source": [
    "def quadratic1(x):\n",
    "    \"\"\"y = x[0]**2 + x[2]**2 + x[0]*x[1]\"\"\"\n",
    "    return (np.prod(x, axis=1) + np.power(x, 2).sum(axis=1))"
   ]
  },
  {
   "cell_type": "code",
   "execution_count": 3,
   "metadata": {
    "tags": []
   },
   "outputs": [],
   "source": [
    "def quadratic2(x):\n",
    "    \"\"\"y = 10 + x[0]**2 + x[2]**2 + x[0]*x[1]\"\"\"\n",
    "    return (10 - 2 * np.prod(x, axis=1) + np.power(x, 2).sum(axis=1))"
   ]
  },
  {
   "cell_type": "code",
   "execution_count": 4,
   "metadata": {
    "tags": []
   },
   "outputs": [
    {
     "data": {
      "application/vnd.jupyter.widget-view+json": {
       "model_id": "486e1011e9fb422ca5cc201c18dc2c7a",
       "version_major": 2,
       "version_minor": 0
      },
      "text/plain": [
       "Profiler(children=(View(children=(GridspecLayout(children=(Figure(axes=[Axis(label='x1', num_ticks=3, scale=Li…"
      ]
     },
     "execution_count": 4,
     "metadata": {},
     "output_type": "execute_result"
    }
   ],
   "source": [
    "isp.profiler(\n",
    "    models=[quadratic1, quadratic2], \n",
    "    xmin=[0, 0],\n",
    "    xmax=[2, 1],\n",
    "    ymin=[0],\n",
    "    ymax=[20],\n",
    "    x0=[1.5, 0.75],\n",
    "    resolution=10_000, \n",
    "    xlabels=[\"x1\", \"x2\"],\n",
    "    ylabels=[\"y\"],\n",
    ")"
   ]
  }
 ],
 "metadata": {
  "kernelspec": {
   "display_name": "Python 3 (ipykernel)",
   "language": "python",
   "name": "python3"
  },
  "language_info": {
   "codemirror_mode": {
    "name": "ipython",
    "version": 3
   },
   "file_extension": ".py",
   "mimetype": "text/x-python",
   "name": "python",
   "nbconvert_exporter": "python",
   "pygments_lexer": "ipython3",
   "version": "3.12.7"
  },
  "vscode": {
   "interpreter": {
    "hash": "25263e5a8b85d9c33f726388632542a8006ef5ccc28d57414fc2899b44bb408a"
   }
  }
 },
 "nbformat": 4,
 "nbformat_minor": 4
}
