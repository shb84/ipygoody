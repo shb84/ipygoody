{
 "cells": [
  {
   "cell_type": "markdown",
   "metadata": {},
   "source": [
    "# OpenMDAO Example\n",
    "\n",
    "_Just to ensure profiler is working and show how to use it_"
   ]
  },
  {
   "cell_type": "code",
   "execution_count": 1,
   "metadata": {
    "tags": []
   },
   "outputs": [],
   "source": [
    "%load_ext autoreload\n",
    "%autoreload 2"
   ]
  },
  {
   "cell_type": "code",
   "execution_count": 2,
   "metadata": {
    "tags": []
   },
   "outputs": [],
   "source": [
    "import numpy as np\n",
    "import openmdao.api as om\n",
    "import ipymodelview "
   ]
  },
  {
   "cell_type": "markdown",
   "metadata": {},
   "source": [
    "### Sellar Problem\n",
    "\n",
    "We will reuse the [Sellar problem](https://openmdao.org/newdocs/versions/latest/basic_user_guide/multidisciplinary_optimization/sellar.html) from the OpenMDAO documention. It is an example of two-discipline optimization problem with feedback coupling. "
   ]
  },
  {
   "cell_type": "markdown",
   "metadata": {},
   "source": [
    "#### Disciplines"
   ]
  },
  {
   "cell_type": "code",
   "execution_count": 3,
   "metadata": {},
   "outputs": [],
   "source": [
    "class SellarDis1(om.ExplicitComponent):\n",
    "    \"\"\"\n",
    "    Component containing Discipline 1 -- no derivatives version.\n",
    "    \"\"\"\n",
    "    \n",
    "    def initialize(self):\n",
    "        self.options.declare('num_nodes', types=int, default=100)\n",
    "\n",
    "    def setup(self):\n",
    "        nn = self.options[\"num_nodes\"]\n",
    "\n",
    "        # Global Design Variable\n",
    "        self.add_input('z1', val=np.zeros(nn,))\n",
    "        self.add_input('z2', val=np.zeros(nn,))\n",
    "\n",
    "        # Local Design Variable\n",
    "        self.add_input('x', val=np.zeros(nn,))\n",
    "\n",
    "        # Coupling parameter\n",
    "        self.add_input('y2', val=np.ones(nn,))\n",
    "\n",
    "        # Coupling output\n",
    "        self.add_output('y1', val=np.ones(nn,))\n",
    "\n",
    "    def setup_partials(self):\n",
    "        # Finite difference all partials.\n",
    "        self.declare_partials('*', '*', method='fd')\n",
    "\n",
    "    def compute(self, inputs, outputs):\n",
    "        \"\"\"\n",
    "        Evaluates the equation\n",
    "        y1 = z1**2 + z2 + x1 - 0.2*y2\n",
    "        \"\"\"\n",
    "        z1 = inputs['z1']\n",
    "        z2 = inputs['z2']\n",
    "        x1 = inputs['x']\n",
    "        y2 = inputs['y2']\n",
    "\n",
    "        outputs['y1'] = z1**2 + z2 + x1 - 0.2*y2"
   ]
  },
  {
   "cell_type": "code",
   "execution_count": 4,
   "metadata": {},
   "outputs": [],
   "source": [
    "class SellarDis2(om.ExplicitComponent):\n",
    "    \"\"\"\n",
    "    Component containing Discipline 2 -- no derivatives version.\n",
    "    \"\"\"\n",
    "    \n",
    "    def initialize(self):\n",
    "        self.options.declare('num_nodes', types=int, default=100)\n",
    "\n",
    "    def setup(self):\n",
    "        nn = self.options[\"num_nodes\"]\n",
    "        \n",
    "        # Global Design Variable\n",
    "        self.add_input('z1', val=np.zeros(nn,))\n",
    "        self.add_input('z2', val=np.zeros(nn,))\n",
    "\n",
    "        # Coupling parameter\n",
    "        self.add_input('y1', val=np.ones(nn,))\n",
    "\n",
    "        # Coupling output\n",
    "        self.add_output('y2', val=np.ones(nn,))\n",
    "\n",
    "    def setup_partials(self):\n",
    "        # Finite difference all partials.\n",
    "        self.declare_partials('*', '*', method='fd')\n",
    "\n",
    "    def compute(self, inputs, outputs):\n",
    "        \"\"\"\n",
    "        Evaluates the equation\n",
    "        y2 = y1**(.5) + z1 + z2\n",
    "        \"\"\"\n",
    "\n",
    "        z1 = inputs['z1']\n",
    "        z2 = inputs['z2']\n",
    "        y1 = inputs['y1']\n",
    "\n",
    "        # Note: this may cause some issues. However, y1 is constrained to be\n",
    "        # above 3.16, so lets just let it converge, and the optimizer will\n",
    "        # throw it out\n",
    "        # if y1.real < 0.0:\n",
    "        #     y1 *= -1\n",
    "        mask = y1.real < 0.0\n",
    "        y1[mask] = -y1[mask]\n",
    "\n",
    "        outputs['y2'] = y1**.5 + z1 + z2"
   ]
  },
  {
   "cell_type": "markdown",
   "metadata": {},
   "source": [
    "#### Connections"
   ]
  },
  {
   "cell_type": "code",
   "execution_count": 5,
   "metadata": {},
   "outputs": [],
   "source": [
    "class SellarMDA(om.Group):\n",
    "    \"\"\"\n",
    "    Group containing the Sellar MDA.\n",
    "    \"\"\"\n",
    "    \n",
    "    def initialize(self):\n",
    "        self.options.declare('num_nodes', types=int, default=100)\n",
    "\n",
    "    def setup(self):\n",
    "        nn = self.options[\"num_nodes\"]\n",
    "        cycle = self.add_subsystem('cycle', om.Group(), promotes=['*'])\n",
    "        cycle.add_subsystem('d1', SellarDis1(num_nodes=nn), promotes_inputs=['x', 'z1', 'z2', 'y2'],\n",
    "                            promotes_outputs=['y1'])\n",
    "        cycle.add_subsystem('d2', SellarDis2(num_nodes=nn), promotes_inputs=['z1', 'z2', 'y1'],\n",
    "                            promotes_outputs=['y2'])\n",
    "\n",
    "        cycle.set_input_defaults('x', val=np.ones(nn,))\n",
    "        cycle.set_input_defaults('z1', val=np.ones(nn,) * 5.0)\n",
    "        cycle.set_input_defaults('z2', val=np.ones(nn,) * 2.0)\n",
    "\n",
    "        # Nonlinear Block Gauss Seidel is a gradient free solver\n",
    "        cycle.nonlinear_solver = om.NonlinearBlockGS()\n",
    "\n",
    "        self.add_subsystem(\n",
    "            'obj_cmp', \n",
    "            om.ExecComp(\n",
    "                'obj = x**2 + z1 + y1 + exp(-y2)',\n",
    "                x=np.zeros(nn,),\n",
    "                z1=np.zeros(nn,), \n",
    "                y1=np.zeros(nn,),\n",
    "                y2=np.zeros(nn,),\n",
    "                obj=np.zeros(nn,),\n",
    "            ),\n",
    "            promotes=['x', 'z1', 'y1', 'y2', 'obj'])\n",
    "        self.add_subsystem(\n",
    "            'con_cmp1', \n",
    "            om.ExecComp(\n",
    "                'con1 = 3.16 - y1',\n",
    "                y1=np.zeros(nn,),\n",
    "                con1=np.zeros(nn,),\n",
    "            ), \n",
    "            promotes=['con1', 'y1']\n",
    "        )\n",
    "        self.add_subsystem(\n",
    "            'con_cmp2', \n",
    "            om.ExecComp(\n",
    "                'con2 = y2 - 24.0',\n",
    "                y2=np.zeros(nn,),\n",
    "                con2=np.zeros(nn,),\n",
    "            ), \n",
    "            promotes=['con2', 'y2']\n",
    "        )"
   ]
  },
  {
   "cell_type": "code",
   "execution_count": 6,
   "metadata": {
    "tags": []
   },
   "outputs": [],
   "source": [
    "prob = om.Problem(model=SellarMDA(num_nodes=1)).setup()  # note: vectorized optimization not possible with openmdao (num_nodes=1)"
   ]
  },
  {
   "cell_type": "markdown",
   "metadata": {},
   "source": [
    "Visualize connections: "
   ]
  },
  {
   "cell_type": "code",
   "execution_count": 7,
   "metadata": {
    "tags": []
   },
   "outputs": [
    {
     "data": {
      "text/html": [
       "\n",
       "        <iframe\n",
       "            width=\"100%\"\n",
       "            height=\"700\"\n",
       "            src=\"n2.html\"\n",
       "            frameborder=\"0\"\n",
       "            allowfullscreen\n",
       "            \n",
       "        ></iframe>\n",
       "        "
      ],
      "text/plain": [
       "<IPython.lib.display.IFrame at 0x13451bc50>"
      ]
     },
     "metadata": {},
     "output_type": "display_data"
    }
   ],
   "source": [
    "om.n2(prob)"
   ]
  },
  {
   "cell_type": "markdown",
   "metadata": {},
   "source": [
    "#### Optimization\n",
    "\n",
    "Use MDAO to solve the optimization problem: "
   ]
  },
  {
   "cell_type": "code",
   "execution_count": 8,
   "metadata": {
    "tags": []
   },
   "outputs": [
    {
     "name": "stdout",
     "output_type": "stream",
     "text": [
      "Optimization terminated successfully    (Exit mode 0)\n",
      "            Current function value: 3.162086954524598\n",
      "            Iterations: 11\n",
      "            Function evaluations: 11\n",
      "            Gradient evaluations: 11\n",
      "Optimization Complete\n",
      "-----------------------------------\n",
      "minimum found at\n",
      "5.908901840045999e-16\n",
      "[7.85470778e-15]\n",
      "[4.39440972]\n",
      "minumum objective\n",
      "3.162086954524598\n"
     ]
    }
   ],
   "source": [
    "prob.driver = om.ScipyOptimizeDriver()\n",
    "prob.driver.options['optimizer'] = 'SLSQP'\n",
    "# prob.driver.options['maxiter'] = 100\n",
    "prob.driver.options['tol'] = 1e-8\n",
    "\n",
    "prob.model.add_design_var('x', lower=0, upper=10)\n",
    "prob.model.add_design_var('z1', lower=0, upper=10)\n",
    "prob.model.add_design_var('z2', lower=0, upper=10)\n",
    "prob.model.add_objective('obj')\n",
    "prob.model.add_constraint('con1', upper=0)\n",
    "prob.model.add_constraint('con2', upper=0)\n",
    "\n",
    "# Ask OpenMDAO to finite-difference across the model to compute the gradients for the optimizer\n",
    "prob.model.approx_totals()\n",
    "\n",
    "prob.setup()\n",
    "prob.set_solver_print(level=0)\n",
    "prob.run_driver()\n",
    "\n",
    "print('minimum found at')\n",
    "print(prob.get_val('x')[0])\n",
    "print(prob.get_val('z1'))\n",
    "print(prob.get_val('z2'))\n",
    "\n",
    "print('minumum objective')\n",
    "print(prob.get_val('obj')[0])"
   ]
  },
  {
   "cell_type": "markdown",
   "metadata": {},
   "source": [
    "### Model Visualization\n",
    "\n",
    "We setup a separate `Group` that does not include a solver, which we will use to understand local sensitivities in the vicininity of the optimum. "
   ]
  },
  {
   "cell_type": "code",
   "execution_count": 9,
   "metadata": {
    "tags": []
   },
   "outputs": [],
   "source": [
    "class SellarView(om.Group):\n",
    "    \n",
    "    def initialize(self):\n",
    "        self.options.declare('num_nodes', types=int, default=100)\n",
    "\n",
    "    def setup(self):\n",
    "        nn = self.options[\"num_nodes\"]\n",
    "        self.add_subsystem('d1', SellarDis1(num_nodes=nn), promotes_inputs=['x', 'z1', 'z2', 'y2'],\n",
    "                            promotes_outputs=[('y1', 'y1_out')])\n",
    "        self.add_subsystem('d2', SellarDis2(num_nodes=nn), promotes_inputs=['z1', 'z2', 'y1'],\n",
    "                            promotes_outputs=[('y2', 'y2_out')])\n",
    "\n",
    "        self.set_input_defaults('x', val=np.ones(nn,))\n",
    "        self.set_input_defaults('y1', val=np.ones(nn,))\n",
    "        self.set_input_defaults('y2', val=np.ones(nn,))\n",
    "        self.set_input_defaults('z1', val=np.ones(nn,) * 5.0)\n",
    "        self.set_input_defaults('z2', val=np.ones(nn,) * 2.0)\n",
    "        \n",
    "        self.add_subsystem(\n",
    "            'res1', \n",
    "            om.ExecComp(\n",
    "                'R1 = y1_out - y1',\n",
    "                R1=np.zeros(nn,),\n",
    "                y1_out=np.zeros(nn,),\n",
    "                y1=np.zeros(nn,),\n",
    "            ), \n",
    "            promotes=['R1', 'y1_out', \"y1\"]\n",
    "        )\n",
    "        self.add_subsystem(\n",
    "            'res2', \n",
    "            om.ExecComp(\n",
    "                'R2 = y2_out - y2',\n",
    "                R2=np.zeros(nn,),\n",
    "                y2_out=np.zeros(nn,),\n",
    "                y2=np.zeros(nn,),\n",
    "            ), \n",
    "            promotes=['R2', 'y2_out', \"y2\"]\n",
    "        )\n",
    "        self.add_subsystem(\n",
    "            'obj_cmp', \n",
    "            om.ExecComp(\n",
    "                'obj = x**2 + z1 + y1 + exp(-y2)',\n",
    "                x=np.zeros(nn,),\n",
    "                z1=np.zeros(nn,), \n",
    "                y1=np.zeros(nn,),\n",
    "                y2=np.zeros(nn,),\n",
    "                obj=np.zeros(nn,),\n",
    "            ),\n",
    "            promotes=['x', 'z1', 'y1', 'y2', 'obj'])\n",
    "        self.add_subsystem(\n",
    "            'con_cmp1', \n",
    "            om.ExecComp(\n",
    "                'con1 = 3.16 - y1',\n",
    "                y1=np.zeros(nn,),\n",
    "                con1=np.zeros(nn,),\n",
    "            ), \n",
    "            promotes=['con1', 'y1']\n",
    "        )\n",
    "        self.add_subsystem(\n",
    "            'con_cmp2', \n",
    "            om.ExecComp(\n",
    "                'con2 = y2 - 24.0',\n",
    "                y2=np.zeros(nn,),\n",
    "                con2=np.zeros(nn,),\n",
    "            ), \n",
    "            promotes=['con2', 'y2']\n",
    "        )"
   ]
  },
  {
   "cell_type": "code",
   "execution_count": 18,
   "metadata": {
    "tags": []
   },
   "outputs": [
    {
     "data": {
      "application/vnd.jupyter.widget-view+json": {
       "model_id": "c1ab4e4aa25e4433ba9832a21037cd3d",
       "version_major": 2,
       "version_minor": 0
      },
      "text/plain": [
       "View(children=(GridspecLayout(children=(Figure(axes=[Axis(label='x', num_ticks=3, scale=LinearScale(max=10.0, …"
      ]
     },
     "execution_count": 18,
     "metadata": {},
     "output_type": "execute_result"
    }
   ],
   "source": [
    "profiler = ipymodelview.openmdao_profiler(\n",
    "    problem=om.Problem(model=SellarView()).setup(),\n",
    "    inputs=[\n",
    "        (\"x\", 0, 10, None), \n",
    "        (\"z1\", 0, 3, None), \n",
    "        (\"z2\", 0, 10, None), \n",
    "        (\"y1\", 0, 10, None), \n",
    "        (\"y2\", 0, 10, None), \n",
    "    ],\n",
    "    outputs=[\n",
    "        (\"R1\", -5, 5, None), \n",
    "        (\"R2\", -5, 5, None), \n",
    "        (\"obj\", -5, 50, None), \n",
    "        (\"con1\", -5, 5, None), \n",
    "        (\"con2\", -50, 0, None), \n",
    "    ],\n",
    "    defaults=dict(\n",
    "        x=dict(val=prob.get_val(\"x\"), units=None),\n",
    "        z1=dict(val=prob.get_val(\"z1\"), units=None),\n",
    "        z2=dict(val=prob.get_val(\"z2\"), units=None),\n",
    "        y1=dict(val=prob.get_val(\"y1\"), units=None),\n",
    "        y2=dict(val=prob.get_val(\"y2\"), units=None),\n",
    "    ),\n",
    "    resolution=100,\n",
    "    width=200,\n",
    "    height=None,\n",
    ")\n",
    "profiler.view"
   ]
  },
  {
   "cell_type": "code",
   "execution_count": 19,
   "metadata": {
    "tags": []
   },
   "outputs": [
    {
     "data": {
      "application/vnd.jupyter.widget-view+json": {
       "model_id": "30bed6a926494960a128088e56b66f09",
       "version_major": 2,
       "version_minor": 0
      },
      "text/plain": [
       "Controller(children=(FloatSlider(value=5.908901840045999e-16, description='x', max=10.0), FloatSlider(value=7.…"
      ]
     },
     "execution_count": 19,
     "metadata": {},
     "output_type": "execute_result"
    }
   ],
   "source": [
    "profiler.controller"
   ]
  },
  {
   "cell_type": "code",
   "execution_count": null,
   "metadata": {},
   "outputs": [],
   "source": []
  }
 ],
 "metadata": {
  "kernelspec": {
   "display_name": "Python 3 (ipykernel)",
   "language": "python",
   "name": "python3"
  },
  "language_info": {
   "codemirror_mode": {
    "name": "ipython",
    "version": 3
   },
   "file_extension": ".py",
   "mimetype": "text/x-python",
   "name": "python",
   "nbconvert_exporter": "python",
   "pygments_lexer": "ipython3",
   "version": "3.11.9"
  },
  "vscode": {
   "interpreter": {
    "hash": "25263e5a8b85d9c33f726388632542a8006ef5ccc28d57414fc2899b44bb408a"
   }
  }
 },
 "nbformat": 4,
 "nbformat_minor": 4
}
