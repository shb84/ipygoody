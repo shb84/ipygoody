{
 "cells": [
  {
   "cell_type": "markdown",
   "metadata": {},
   "source": [
    "# OpenMDAO Example\n",
    "\n",
    "We will reuse the [Sellar problem](https://openmdao.org/newdocs/versions/latest/basic_user_guide/multidisciplinary_optimization/sellar.html) from the OpenMDAO documention. It is an example of two-discipline optimization problem with feedback coupling. "
   ]
  },
  {
   "cell_type": "markdown",
   "metadata": {},
   "source": [
    "\n",
    "### Libraries \n",
    "\n",
    "OpenMDAO must me installed: "
   ]
  },
  {
   "cell_type": "code",
   "execution_count": null,
   "metadata": {},
   "outputs": [
    {
     "name": "stdout",
     "output_type": "stream",
     "text": [
      "Channels:\n",
      " - conda-forge\n",
      "Platform: osx-arm64\n",
      "Collecting package metadata (repodata.json): done\n",
      "Solving environment: done\n",
      "\n",
      "# All requested packages already installed.\n",
      "\n",
      "\n",
      "Note: you may need to restart the kernel to use updated packages.\n"
     ]
    }
   ],
   "source": [
    "# %conda install openmdao"
   ]
  },
  {
   "cell_type": "code",
   "execution_count": 2,
   "metadata": {
    "tags": []
   },
   "outputs": [],
   "source": [
    "import ipysensitivityprofiler as isp\n",
    "import openmdao.api as om "
   ]
  },
  {
   "cell_type": "code",
   "execution_count": 3,
   "metadata": {},
   "outputs": [],
   "source": [
    "from _openmdao_profiler import openmdao_profiler\n",
    "from _openmdao_models import SellarMDA, SellarView"
   ]
  },
  {
   "cell_type": "markdown",
   "metadata": {},
   "source": [
    "### MDAO Problem Instantiation"
   ]
  },
  {
   "cell_type": "code",
   "execution_count": 4,
   "metadata": {
    "tags": []
   },
   "outputs": [],
   "source": [
    "prob = om.Problem(model=SellarMDA(num_nodes=1)).setup()  "
   ]
  },
  {
   "cell_type": "code",
   "execution_count": 9,
   "metadata": {},
   "outputs": [
    {
     "data": {
      "text/html": [
       "\n",
       "        <iframe\n",
       "            width=\"100%\"\n",
       "            height=\"700\"\n",
       "            src=\"n2.html\"\n",
       "            frameborder=\"0\"\n",
       "            allowfullscreen\n",
       "            \n",
       "        ></iframe>\n",
       "        "
      ],
      "text/plain": [
       "<IPython.lib.display.IFrame at 0x147b1b7d0>"
      ]
     },
     "metadata": {},
     "output_type": "display_data"
    }
   ],
   "source": [
    "om.n2(prob)"
   ]
  },
  {
   "cell_type": "markdown",
   "metadata": {},
   "source": [
    "### Optimization\n",
    "\n"
   ]
  },
  {
   "cell_type": "code",
   "execution_count": 5,
   "metadata": {},
   "outputs": [
    {
     "name": "stdout",
     "output_type": "stream",
     "text": [
      "Optimization terminated successfully    (Exit mode 0)\n",
      "            Current function value: 3.162086954524598\n",
      "            Iterations: 11\n",
      "            Function evaluations: 11\n",
      "            Gradient evaluations: 11\n",
      "Optimization Complete\n",
      "-----------------------------------\n",
      "minimum found at\n",
      "5.908901840045999e-16\n",
      "[7.85470778e-15]\n",
      "[4.39440972]\n",
      "minumum objective\n",
      "3.162086954524598\n"
     ]
    }
   ],
   "source": [
    "prob.driver = om.ScipyOptimizeDriver()\n",
    "prob.driver.options['optimizer'] = 'SLSQP'\n",
    "# prob.driver.options['maxiter'] = 100\n",
    "prob.driver.options['tol'] = 1e-8\n",
    "\n",
    "prob.model.add_design_var('x', lower=0, upper=10)\n",
    "prob.model.add_design_var('z1', lower=0, upper=10)\n",
    "prob.model.add_design_var('z2', lower=0, upper=10)\n",
    "prob.model.add_objective('obj')\n",
    "prob.model.add_constraint('con1', upper=0)\n",
    "prob.model.add_constraint('con2', upper=0)\n",
    "\n",
    "# Ask OpenMDAO to finite-difference across the model to compute the gradients for the optimizer\n",
    "prob.model.approx_totals()\n",
    "\n",
    "prob.setup()\n",
    "prob.set_solver_print(level=0)\n",
    "prob.run_driver()\n",
    "\n",
    "print('minimum found at')\n",
    "print(prob.get_val('x')[0])\n",
    "print(prob.get_val('z1'))\n",
    "print(prob.get_val('z2'))\n",
    "\n",
    "print('minumum objective')\n",
    "print(prob.get_val('obj')[0])"
   ]
  },
  {
   "cell_type": "markdown",
   "metadata": {},
   "source": [
    "### Local Sensitivity Visualization\n",
    "\n",
    "We setup a separate `Group` that does not include a solver, which we will use to understand local sensitivities in the vicininity of the optimum. "
   ]
  },
  {
   "cell_type": "code",
   "execution_count": 7,
   "metadata": {
    "tags": []
   },
   "outputs": [
    {
     "data": {
      "application/vnd.jupyter.widget-view+json": {
       "model_id": "1cac381317dc461897d7fa8cfd064214",
       "version_major": 2,
       "version_minor": 0
      },
      "text/plain": [
       "View(children=(GridspecLayout(children=(Figure(axes=[Axis(label='x', num_ticks=3, scale=LinearScale(max=np.flo…"
      ]
     },
     "execution_count": 7,
     "metadata": {},
     "output_type": "execute_result"
    }
   ],
   "source": [
    "profiler = openmdao_profiler(\n",
    "    problem=om.Problem(model=SellarView()).setup(),\n",
    "    inputs=[\n",
    "        (\"x\", 0, 10, None), \n",
    "        (\"z1\", 0, 3, None), \n",
    "        (\"z2\", 0, 10, None), \n",
    "        (\"y1\", 0, 10, None), \n",
    "        (\"y2\", 0, 10, None), \n",
    "    ],\n",
    "    outputs=[\n",
    "        (\"Residual1\", -5, 5, None), \n",
    "        (\"Residual2\", -5, 5, None), \n",
    "        (\"obj\", -5, 50, None), \n",
    "        (\"con1\", -5, 5, None), \n",
    "        (\"con2\", -50, 0, None), \n",
    "    ],\n",
    "    defaults=[  # pass converged inputs\n",
    "        (\"x\", prob.get_val(\"x\"), None),\n",
    "        (\"z1\", prob.get_val(\"z1\"), None),\n",
    "        (\"z2\", prob.get_val(\"z2\"), None),\n",
    "        (\"y1\", prob.get_val(\"y1\"), None),\n",
    "        (\"y2\", prob.get_val(\"y2\"), None),\n",
    "    ],\n",
    "    resolution=100,\n",
    "    width=200,\n",
    "    height=None,\n",
    ")\n",
    "profiler.view"
   ]
  },
  {
   "cell_type": "code",
   "execution_count": 8,
   "metadata": {
    "tags": []
   },
   "outputs": [
    {
     "data": {
      "application/vnd.jupyter.widget-view+json": {
       "model_id": "c96439ec8baf408bad633893d7578798",
       "version_major": 2,
       "version_minor": 0
      },
      "text/plain": [
       "Controller(children=(FloatSlider(value=5.908901840045999e-16, description='x', max=10.0), FloatSlider(value=7.…"
      ]
     },
     "execution_count": 8,
     "metadata": {},
     "output_type": "execute_result"
    }
   ],
   "source": [
    "profiler.controller"
   ]
  },
  {
   "cell_type": "code",
   "execution_count": null,
   "metadata": {},
   "outputs": [],
   "source": []
  }
 ],
 "metadata": {
  "kernelspec": {
   "display_name": "Python 3 (ipykernel)",
   "language": "python",
   "name": "python3"
  },
  "language_info": {
   "codemirror_mode": {
    "name": "ipython",
    "version": 3
   },
   "file_extension": ".py",
   "mimetype": "text/x-python",
   "name": "python",
   "nbconvert_exporter": "python",
   "pygments_lexer": "ipython3",
   "version": "3.12.7"
  }
 },
 "nbformat": 4,
 "nbformat_minor": 4
}
